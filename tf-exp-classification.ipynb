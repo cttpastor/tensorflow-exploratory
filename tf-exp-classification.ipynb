{
 "cells": [
  {
   "cell_type": "code",
   "execution_count": 9,
   "metadata": {
    "collapsed": true
   },
   "outputs": [],
   "source": [
    "from __future__ import absolute_import,division,print_function,unicode_literals\n",
    "import tensorflow as tf\n",
    "import pandas as pd\n"
   ]
  },
  {
   "cell_type": "code",
   "execution_count": 10,
   "outputs": [],
   "source": [
    "CSV_COLUMN_NAMES = ['SepalLength', 'SepalWidth', 'PetalLength', 'PetalWidth', 'Species']\n",
    "SPECIES = ['Setosa', 'Versicolor', 'Virginica']\n",
    "train = pd.read_csv('iris_training.csv',names = CSV_COLUMN_NAMES,header=0)\n",
    "test = pd.read_csv('iris_test.csv',names = CSV_COLUMN_NAMES,header=0)\n",
    "train.head()\n",
    "train_y = train.pop('Species')\n",
    "test_y = test.pop('Species')"
   ],
   "metadata": {
    "collapsed": false,
    "pycharm": {
     "name": "#%%\n"
    }
   }
  },
  {
   "cell_type": "code",
   "execution_count": 11,
   "outputs": [],
   "source": [
    "def input_fn(features,labels,training=True,batch_size=256):\n",
    "    dataset = tf.data.Dataset.from_tensor_slices((dict(features),labels))\n",
    "    if training:\n",
    "        dataset = dataset.shuffle(1000).repeat()\n",
    "    return dataset.batch(batch_size)\n"
   ],
   "metadata": {
    "collapsed": false,
    "pycharm": {
     "name": "#%%\n"
    }
   }
  },
  {
   "cell_type": "code",
   "execution_count": 12,
   "outputs": [
    {
     "name": "stdout",
     "output_type": "stream",
     "text": [
      "[NumericColumn(key='SepalLength', shape=(1,), default_value=None, dtype=tf.float32, normalizer_fn=None), NumericColumn(key='SepalWidth', shape=(1,), default_value=None, dtype=tf.float32, normalizer_fn=None), NumericColumn(key='PetalLength', shape=(1,), default_value=None, dtype=tf.float32, normalizer_fn=None), NumericColumn(key='PetalWidth', shape=(1,), default_value=None, dtype=tf.float32, normalizer_fn=None)]\n"
     ]
    }
   ],
   "source": [
    "feature_columns = []\n",
    "for key in train.keys():\n",
    "    feature_columns.append(tf.feature_column.numeric_column(key=key))\n",
    "print(feature_columns)\n"
   ],
   "metadata": {
    "collapsed": false,
    "pycharm": {
     "name": "#%%\n"
    }
   }
  },
  {
   "cell_type": "code",
   "execution_count": 15,
   "outputs": [
    {
     "name": "stdout",
     "output_type": "stream",
     "text": [
      "INFO:tensorflow:Using default config.\n",
      "WARNING:tensorflow:Using temporary folder as model directory: C:\\Users\\cttpa\\AppData\\Local\\Temp\\tmp7wnuqw3f\n",
      "INFO:tensorflow:Using config: {'_model_dir': 'C:\\\\Users\\\\cttpa\\\\AppData\\\\Local\\\\Temp\\\\tmp7wnuqw3f', '_tf_random_seed': None, '_save_summary_steps': 100, '_save_checkpoints_steps': None, '_save_checkpoints_secs': 600, '_session_config': allow_soft_placement: true\n",
      "graph_options {\n",
      "  rewrite_options {\n",
      "    meta_optimizer_iterations: ONE\n",
      "  }\n",
      "}\n",
      ", '_keep_checkpoint_max': 5, '_keep_checkpoint_every_n_hours': 10000, '_log_step_count_steps': 100, '_train_distribute': None, '_device_fn': None, '_protocol': None, '_eval_distribute': None, '_experimental_distribute': None, '_experimental_max_worker_delay_secs': None, '_session_creation_timeout_secs': 7200, '_checkpoint_save_graph_def': True, '_service': None, '_cluster_spec': ClusterSpec({}), '_task_type': 'worker', '_task_id': 0, '_global_id_in_cluster': 0, '_master': '', '_evaluation_master': '', '_is_chief': True, '_num_ps_replicas': 0, '_num_worker_replicas': 1}\n",
      "INFO:tensorflow:Calling model_fn.\n",
      "INFO:tensorflow:Done calling model_fn.\n",
      "INFO:tensorflow:Create CheckpointSaverHook.\n",
      "INFO:tensorflow:Graph was finalized.\n",
      "INFO:tensorflow:Running local_init_op.\n",
      "INFO:tensorflow:Done running local_init_op.\n",
      "INFO:tensorflow:Calling checkpoint listeners before saving checkpoint 0...\n",
      "INFO:tensorflow:Saving checkpoints for 0 into C:\\Users\\cttpa\\AppData\\Local\\Temp\\tmp7wnuqw3f\\model.ckpt.\n",
      "INFO:tensorflow:Calling checkpoint listeners after saving checkpoint 0...\n",
      "INFO:tensorflow:loss = 2.628776, step = 0\n",
      "INFO:tensorflow:global_step/sec: 343.546\n",
      "INFO:tensorflow:loss = 1.4531862, step = 100 (0.293 sec)\n",
      "INFO:tensorflow:global_step/sec: 502.398\n",
      "INFO:tensorflow:loss = 1.0109085, step = 200 (0.199 sec)\n",
      "INFO:tensorflow:global_step/sec: 502.398\n",
      "INFO:tensorflow:loss = 0.8636146, step = 300 (0.199 sec)\n",
      "INFO:tensorflow:global_step/sec: 499.887\n",
      "INFO:tensorflow:loss = 0.7917921, step = 400 (0.200 sec)\n",
      "INFO:tensorflow:global_step/sec: 502.398\n",
      "INFO:tensorflow:loss = 0.7870442, step = 500 (0.199 sec)\n",
      "INFO:tensorflow:global_step/sec: 507.501\n",
      "INFO:tensorflow:loss = 0.7525993, step = 600 (0.197 sec)\n",
      "INFO:tensorflow:global_step/sec: 497.4\n",
      "INFO:tensorflow:loss = 0.72787523, step = 700 (0.201 sec)\n",
      "INFO:tensorflow:global_step/sec: 507.499\n",
      "INFO:tensorflow:loss = 0.70834506, step = 800 (0.198 sec)\n",
      "INFO:tensorflow:global_step/sec: 497.4\n",
      "INFO:tensorflow:loss = 0.70270354, step = 900 (0.200 sec)\n",
      "INFO:tensorflow:global_step/sec: 510.088\n",
      "INFO:tensorflow:loss = 0.6941705, step = 1000 (0.196 sec)\n",
      "INFO:tensorflow:global_step/sec: 504.938\n",
      "INFO:tensorflow:loss = 0.6704247, step = 1100 (0.198 sec)\n",
      "INFO:tensorflow:global_step/sec: 515.346\n",
      "INFO:tensorflow:loss = 0.6696297, step = 1200 (0.195 sec)\n",
      "INFO:tensorflow:global_step/sec: 492.5\n",
      "INFO:tensorflow:loss = 0.6591151, step = 1300 (0.202 sec)\n",
      "INFO:tensorflow:global_step/sec: 416.471\n",
      "INFO:tensorflow:loss = 0.66325146, step = 1400 (0.241 sec)\n",
      "INFO:tensorflow:global_step/sec: 473.826\n",
      "INFO:tensorflow:loss = 0.6356321, step = 1500 (0.210 sec)\n",
      "INFO:tensorflow:global_step/sec: 507.499\n",
      "INFO:tensorflow:loss = 0.6220924, step = 1600 (0.197 sec)\n",
      "INFO:tensorflow:global_step/sec: 475.967\n",
      "INFO:tensorflow:loss = 0.61615473, step = 1700 (0.210 sec)\n",
      "INFO:tensorflow:global_step/sec: 441.171\n",
      "INFO:tensorflow:loss = 0.60877484, step = 1800 (0.228 sec)\n",
      "INFO:tensorflow:global_step/sec: 454.442\n",
      "INFO:tensorflow:loss = 0.60377085, step = 1900 (0.220 sec)\n",
      "INFO:tensorflow:global_step/sec: 497.401\n",
      "INFO:tensorflow:loss = 0.5878124, step = 2000 (0.200 sec)\n",
      "INFO:tensorflow:global_step/sec: 456.517\n",
      "INFO:tensorflow:loss = 0.5824344, step = 2100 (0.219 sec)\n",
      "INFO:tensorflow:global_step/sec: 507.499\n",
      "INFO:tensorflow:loss = 0.58626837, step = 2200 (0.197 sec)\n",
      "INFO:tensorflow:global_step/sec: 502.4\n",
      "INFO:tensorflow:loss = 0.5580154, step = 2300 (0.199 sec)\n",
      "INFO:tensorflow:global_step/sec: 499.887\n",
      "INFO:tensorflow:loss = 0.56637937, step = 2400 (0.200 sec)\n",
      "INFO:tensorflow:global_step/sec: 462.854\n",
      "INFO:tensorflow:loss = 0.56418633, step = 2500 (0.216 sec)\n",
      "INFO:tensorflow:global_step/sec: 456.518\n",
      "INFO:tensorflow:loss = 0.5406254, step = 2600 (0.220 sec)\n",
      "INFO:tensorflow:global_step/sec: 440.431\n",
      "INFO:tensorflow:loss = 0.53798366, step = 2700 (0.226 sec)\n",
      "INFO:tensorflow:global_step/sec: 380.141\n",
      "INFO:tensorflow:loss = 0.5428189, step = 2800 (0.264 sec)\n",
      "INFO:tensorflow:global_step/sec: 404.743\n",
      "INFO:tensorflow:loss = 0.5359263, step = 2900 (0.246 sec)\n",
      "INFO:tensorflow:global_step/sec: 456.516\n",
      "INFO:tensorflow:loss = 0.5288161, step = 3000 (0.220 sec)\n",
      "INFO:tensorflow:global_step/sec: 325.659\n",
      "INFO:tensorflow:loss = 0.54087096, step = 3100 (0.306 sec)\n",
      "INFO:tensorflow:global_step/sec: 444.345\n",
      "INFO:tensorflow:loss = 0.51090944, step = 3200 (0.225 sec)\n",
      "INFO:tensorflow:global_step/sec: 467.184\n",
      "INFO:tensorflow:loss = 0.5115168, step = 3300 (0.215 sec)\n",
      "INFO:tensorflow:global_step/sec: 458.612\n",
      "INFO:tensorflow:loss = 0.5027205, step = 3400 (0.218 sec)\n",
      "INFO:tensorflow:global_step/sec: 460.725\n",
      "INFO:tensorflow:loss = 0.5006623, step = 3500 (0.216 sec)\n",
      "INFO:tensorflow:global_step/sec: 467.184\n",
      "INFO:tensorflow:loss = 0.49820608, step = 3600 (0.214 sec)\n",
      "INFO:tensorflow:global_step/sec: 467.183\n",
      "INFO:tensorflow:loss = 0.48029506, step = 3700 (0.214 sec)\n",
      "INFO:tensorflow:global_step/sec: 480.661\n",
      "INFO:tensorflow:loss = 0.5002403, step = 3800 (0.209 sec)\n",
      "INFO:tensorflow:global_step/sec: 482.983\n",
      "INFO:tensorflow:loss = 0.48066393, step = 3900 (0.207 sec)\n",
      "INFO:tensorflow:global_step/sec: 480.659\n",
      "INFO:tensorflow:loss = 0.47994703, step = 4000 (0.207 sec)\n",
      "INFO:tensorflow:global_step/sec: 462.86\n",
      "INFO:tensorflow:loss = 0.48736018, step = 4100 (0.216 sec)\n",
      "INFO:tensorflow:global_step/sec: 462.857\n",
      "INFO:tensorflow:loss = 0.47098726, step = 4200 (0.216 sec)\n",
      "INFO:tensorflow:global_step/sec: 482.983\n",
      "INFO:tensorflow:loss = 0.4724805, step = 4300 (0.207 sec)\n",
      "INFO:tensorflow:global_step/sec: 460.726\n",
      "INFO:tensorflow:loss = 0.4509961, step = 4400 (0.217 sec)\n",
      "INFO:tensorflow:global_step/sec: 487.693\n",
      "INFO:tensorflow:loss = 0.46714926, step = 4500 (0.205 sec)\n",
      "INFO:tensorflow:global_step/sec: 467.185\n",
      "INFO:tensorflow:loss = 0.47606546, step = 4600 (0.213 sec)\n",
      "INFO:tensorflow:global_step/sec: 473.825\n",
      "INFO:tensorflow:loss = 0.4518834, step = 4700 (0.212 sec)\n",
      "INFO:tensorflow:global_step/sec: 454.442\n",
      "INFO:tensorflow:loss = 0.45205522, step = 4800 (0.221 sec)\n",
      "INFO:tensorflow:global_step/sec: 464.447\n",
      "INFO:tensorflow:loss = 0.45687807, step = 4900 (0.214 sec)\n",
      "INFO:tensorflow:global_step/sec: 465.578\n",
      "INFO:tensorflow:loss = 0.44833875, step = 5000 (0.215 sec)\n",
      "INFO:tensorflow:global_step/sec: 446.328\n",
      "INFO:tensorflow:loss = 0.44786114, step = 5100 (0.224 sec)\n",
      "INFO:tensorflow:global_step/sec: 485.327\n",
      "INFO:tensorflow:loss = 0.44286704, step = 5200 (0.206 sec)\n",
      "INFO:tensorflow:global_step/sec: 467.178\n",
      "INFO:tensorflow:loss = 0.43370783, step = 5300 (0.214 sec)\n",
      "INFO:tensorflow:global_step/sec: 478.367\n",
      "INFO:tensorflow:loss = 0.43380022, step = 5400 (0.209 sec)\n",
      "INFO:tensorflow:global_step/sec: 473.826\n",
      "INFO:tensorflow:loss = 0.42938912, step = 5500 (0.211 sec)\n",
      "INFO:tensorflow:global_step/sec: 440.43\n",
      "INFO:tensorflow:loss = 0.43169543, step = 5600 (0.227 sec)\n",
      "INFO:tensorflow:global_step/sec: 478.36\n",
      "INFO:tensorflow:loss = 0.4292546, step = 5700 (0.209 sec)\n",
      "INFO:tensorflow:global_step/sec: 444.344\n",
      "INFO:tensorflow:loss = 0.4135816, step = 5800 (0.225 sec)\n",
      "INFO:tensorflow:global_step/sec: 425.436\n",
      "INFO:tensorflow:loss = 0.42373592, step = 5900 (0.235 sec)\n",
      "INFO:tensorflow:global_step/sec: 465.011\n",
      "INFO:tensorflow:loss = 0.41993797, step = 6000 (0.216 sec)\n",
      "INFO:tensorflow:global_step/sec: 467.184\n",
      "INFO:tensorflow:loss = 0.42336226, step = 6100 (0.213 sec)\n",
      "INFO:tensorflow:global_step/sec: 482.983\n",
      "INFO:tensorflow:loss = 0.42354983, step = 6200 (0.207 sec)\n",
      "INFO:tensorflow:global_step/sec: 473.826\n",
      "INFO:tensorflow:loss = 0.41270033, step = 6300 (0.211 sec)\n",
      "INFO:tensorflow:global_step/sec: 448.33\n",
      "INFO:tensorflow:loss = 0.40504062, step = 6400 (0.223 sec)\n",
      "INFO:tensorflow:global_step/sec: 469.377\n",
      "INFO:tensorflow:loss = 0.406448, step = 6500 (0.213 sec)\n",
      "INFO:tensorflow:global_step/sec: 336.624\n",
      "INFO:tensorflow:loss = 0.41088152, step = 6600 (0.297 sec)\n",
      "INFO:tensorflow:global_step/sec: 478.361\n",
      "INFO:tensorflow:loss = 0.40088558, step = 6700 (0.209 sec)\n",
      "INFO:tensorflow:global_step/sec: 480.661\n",
      "INFO:tensorflow:loss = 0.39904153, step = 6800 (0.209 sec)\n",
      "INFO:tensorflow:global_step/sec: 456.517\n",
      "INFO:tensorflow:loss = 0.39606512, step = 6900 (0.219 sec)\n",
      "INFO:tensorflow:global_step/sec: 462.858\n",
      "INFO:tensorflow:loss = 0.398242, step = 7000 (0.214 sec)\n",
      "INFO:tensorflow:global_step/sec: 487.695\n",
      "INFO:tensorflow:loss = 0.40734214, step = 7100 (0.206 sec)\n",
      "INFO:tensorflow:global_step/sec: 364.881\n",
      "INFO:tensorflow:loss = 0.38973412, step = 7200 (0.274 sec)\n",
      "INFO:tensorflow:global_step/sec: 471.59\n",
      "INFO:tensorflow:loss = 0.3940922, step = 7300 (0.212 sec)\n",
      "INFO:tensorflow:global_step/sec: 478.361\n",
      "INFO:tensorflow:loss = 0.38748062, step = 7400 (0.209 sec)\n",
      "INFO:tensorflow:global_step/sec: 462.86\n",
      "INFO:tensorflow:loss = 0.3851598, step = 7500 (0.217 sec)\n",
      "INFO:tensorflow:global_step/sec: 476.083\n",
      "INFO:tensorflow:loss = 0.391378, step = 7600 (0.209 sec)\n",
      "INFO:tensorflow:global_step/sec: 473.826\n",
      "INFO:tensorflow:loss = 0.37317023, step = 7700 (0.211 sec)\n",
      "INFO:tensorflow:global_step/sec: 465.011\n",
      "INFO:tensorflow:loss = 0.38038507, step = 7800 (0.215 sec)\n",
      "INFO:tensorflow:global_step/sec: 469.378\n",
      "INFO:tensorflow:loss = 0.38552406, step = 7900 (0.213 sec)\n",
      "INFO:tensorflow:global_step/sec: 482.982\n",
      "INFO:tensorflow:loss = 0.3694808, step = 8000 (0.207 sec)\n",
      "INFO:tensorflow:global_step/sec: 377.274\n",
      "INFO:tensorflow:loss = 0.37833202, step = 8100 (0.265 sec)\n",
      "INFO:tensorflow:global_step/sec: 473.826\n",
      "INFO:tensorflow:loss = 0.3849994, step = 8200 (0.211 sec)\n",
      "INFO:tensorflow:global_step/sec: 469.377\n",
      "INFO:tensorflow:loss = 0.36493993, step = 8300 (0.213 sec)\n",
      "INFO:tensorflow:global_step/sec: 485.327\n",
      "INFO:tensorflow:loss = 0.3695839, step = 8400 (0.206 sec)\n",
      "INFO:tensorflow:global_step/sec: 476.083\n",
      "INFO:tensorflow:loss = 0.3644505, step = 8500 (0.211 sec)\n",
      "INFO:tensorflow:global_step/sec: 476.082\n",
      "INFO:tensorflow:loss = 0.36703217, step = 8600 (0.209 sec)\n",
      "INFO:tensorflow:global_step/sec: 446.328\n",
      "INFO:tensorflow:loss = 0.3559301, step = 8700 (0.224 sec)\n",
      "INFO:tensorflow:global_step/sec: 452.386\n",
      "INFO:tensorflow:loss = 0.36772013, step = 8800 (0.221 sec)\n",
      "INFO:tensorflow:global_step/sec: 482.982\n",
      "INFO:tensorflow:loss = 0.35820225, step = 8900 (0.207 sec)\n",
      "INFO:tensorflow:global_step/sec: 452.386\n",
      "INFO:tensorflow:loss = 0.344673, step = 9000 (0.221 sec)\n",
      "INFO:tensorflow:global_step/sec: 482.982\n",
      "INFO:tensorflow:loss = 0.35138455, step = 9100 (0.207 sec)\n",
      "INFO:tensorflow:global_step/sec: 485.327\n",
      "INFO:tensorflow:loss = 0.33787212, step = 9200 (0.206 sec)\n",
      "INFO:tensorflow:global_step/sec: 482.984\n",
      "INFO:tensorflow:loss = 0.34602028, step = 9300 (0.207 sec)\n",
      "INFO:tensorflow:global_step/sec: 467.184\n",
      "INFO:tensorflow:loss = 0.34648013, step = 9400 (0.214 sec)\n",
      "INFO:tensorflow:global_step/sec: 485.327\n",
      "INFO:tensorflow:loss = 0.3371362, step = 9500 (0.206 sec)\n",
      "INFO:tensorflow:global_step/sec: 476.083\n",
      "INFO:tensorflow:loss = 0.33717513, step = 9600 (0.210 sec)\n",
      "INFO:tensorflow:global_step/sec: 478.361\n",
      "INFO:tensorflow:loss = 0.34703422, step = 9700 (0.209 sec)\n",
      "INFO:tensorflow:global_step/sec: 485.327\n",
      "INFO:tensorflow:loss = 0.3313197, step = 9800 (0.206 sec)\n",
      "INFO:tensorflow:global_step/sec: 473.826\n",
      "INFO:tensorflow:loss = 0.3412485, step = 9900 (0.211 sec)\n",
      "INFO:tensorflow:Calling checkpoint listeners before saving checkpoint 10000...\n",
      "INFO:tensorflow:Saving checkpoints for 10000 into C:\\Users\\cttpa\\AppData\\Local\\Temp\\tmp7wnuqw3f\\model.ckpt.\n",
      "INFO:tensorflow:Calling checkpoint listeners after saving checkpoint 10000...\n",
      "INFO:tensorflow:Loss for final step: 0.33818397.\n"
     ]
    },
    {
     "data": {
      "text/plain": "<tensorflow_estimator.python.estimator.canned.dnn.DNNClassifierV2 at 0x1d6e2205250>"
     },
     "execution_count": 15,
     "metadata": {},
     "output_type": "execute_result"
    }
   ],
   "source": [
    "#model creation\n",
    "classifier = tf.estimator.DNNClassifier(\n",
    "    feature_columns=feature_columns,\n",
    "    hidden_units=[30,10],\n",
    "    n_classes=3\n",
    ")\n",
    "\n",
    "classifier.train(input_fn = lambda: input_fn(train,train_y,training = True), steps = 10000)"
   ],
   "metadata": {
    "collapsed": false,
    "pycharm": {
     "name": "#%%\n"
    }
   }
  },
  {
   "cell_type": "code",
   "execution_count": 16,
   "outputs": [
    {
     "name": "stdout",
     "output_type": "stream",
     "text": [
      "INFO:tensorflow:Calling model_fn.\n",
      "INFO:tensorflow:Done calling model_fn.\n",
      "INFO:tensorflow:Starting evaluation at 2021-10-25T19:18:18\n",
      "INFO:tensorflow:Graph was finalized.\n",
      "INFO:tensorflow:Restoring parameters from C:\\Users\\cttpa\\AppData\\Local\\Temp\\tmp7wnuqw3f\\model.ckpt-10000\n",
      "INFO:tensorflow:Running local_init_op.\n",
      "INFO:tensorflow:Done running local_init_op.\n",
      "INFO:tensorflow:Inference Time : 0.27606s\n",
      "INFO:tensorflow:Finished evaluation at 2021-10-25-19:18:18\n",
      "INFO:tensorflow:Saving dict for global step 10000: accuracy = 0.93333334, average_loss = 0.39015418, global_step = 10000, loss = 0.39015418\n",
      "INFO:tensorflow:Saving 'checkpoint_path' summary for global step 10000: C:\\Users\\cttpa\\AppData\\Local\\Temp\\tmp7wnuqw3f\\model.ckpt-10000\n",
      "\n",
      "Test accuracy: 0.933\n",
      "\n"
     ]
    }
   ],
   "source": [
    "eval_result = classifier.evaluate(input_fn = lambda: input_fn(test,test_y, training = False))\n",
    "print('\\nTest accuracy: {accuracy:0.3f}\\n'.format(**eval_result))\n"
   ],
   "metadata": {
    "collapsed": false,
    "pycharm": {
     "name": "#%%\n"
    }
   }
  }
 ],
 "metadata": {
  "kernelspec": {
   "display_name": "Python 3",
   "language": "python",
   "name": "python3"
  },
  "language_info": {
   "codemirror_mode": {
    "name": "ipython",
    "version": 2
   },
   "file_extension": ".py",
   "mimetype": "text/x-python",
   "name": "python",
   "nbconvert_exporter": "python",
   "pygments_lexer": "ipython2",
   "version": "2.7.6"
  }
 },
 "nbformat": 4,
 "nbformat_minor": 0
}